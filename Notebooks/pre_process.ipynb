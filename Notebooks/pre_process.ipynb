{
 "cells": [
  {
   "cell_type": "code",
   "execution_count": 4,
   "metadata": {},
   "outputs": [],
   "source": [
    "import warnings\n",
    "warnings.filterwarnings('ignore')\n"
   ]
  },
  {
   "cell_type": "code",
   "execution_count": 41,
   "metadata": {},
   "outputs": [
    {
     "name": "stderr",
     "output_type": "stream",
     "text": [
      "INFO: Preparing to split document for partition.\n",
      "INFO: Starting page number set to 1\n",
      "INFO: Concurrency level set to 5\n",
      "INFO: Determined optimal split size of 20 pages.\n",
      "INFO: Document split into 13, 20-paged sets.\n",
      "INFO: Partitioning 13, 20-paged sets.\n",
      "INFO: Partitioning set #1 (pages 1-21).\n",
      "INFO: Partitioning set #2 (pages 21-41).\n",
      "INFO: Partitioning set #3 (pages 41-61).\n",
      "INFO: Partitioning set #4 (pages 61-81).\n",
      "INFO: Partitioning set #5 (pages 81-101).\n",
      "INFO: Partitioning set #6 (pages 101-121).\n",
      "INFO: Partitioning set #7 (pages 121-141).\n",
      "INFO: Partitioning set #8 (pages 141-161).\n",
      "INFO: Partitioning set #9 (pages 161-181).\n",
      "INFO: Partitioning set #10 (pages 181-201).\n",
      "INFO: Partitioning set #11 (pages 201-221).\n",
      "INFO: Partitioning set #12 (pages 221-241).\n",
      "INFO: Partitioning set #13 (pages 241-244).\n",
      "INFO: HTTP Request: POST https://api.unstructured.io/general/v0/general \"HTTP/1.1 200 OK\"\n",
      "INFO: HTTP Request: POST https://api.unstructured.io/general/v0/general \"HTTP/1.1 200 OK\"\n",
      "INFO: HTTP Request: POST https://api.unstructured.io/general/v0/general \"HTTP/1.1 200 OK\"\n",
      "INFO: HTTP Request: POST https://api.unstructured.io/general/v0/general \"HTTP/1.1 200 OK\"\n",
      "INFO: HTTP Request: POST https://api.unstructured.io/general/v0/general \"HTTP/1.1 200 OK\"\n",
      "INFO: HTTP Request: POST https://api.unstructured.io/general/v0/general \"HTTP/1.1 200 OK\"\n",
      "INFO: HTTP Request: POST https://api.unstructured.io/general/v0/general \"HTTP/1.1 200 OK\"\n",
      "INFO: HTTP Request: POST https://api.unstructured.io/general/v0/general \"HTTP/1.1 200 OK\"\n",
      "INFO: HTTP Request: POST https://api.unstructured.io/general/v0/general \"HTTP/1.1 200 OK\"\n",
      "INFO: HTTP Request: POST https://api.unstructured.io/general/v0/general \"HTTP/1.1 200 OK\"\n",
      "INFO: HTTP Request: POST https://api.unstructured.io/general/v0/general \"HTTP/1.1 200 OK\"\n",
      "INFO: HTTP Request: POST https://api.unstructured.io/general/v0/general \"HTTP/1.1 200 OK\"\n",
      "INFO: Successfully partitioned set #1, elements added to the final result.\n",
      "INFO: Successfully partitioned set #2, elements added to the final result.\n",
      "INFO: Successfully partitioned set #3, elements added to the final result.\n",
      "INFO: Successfully partitioned set #4, elements added to the final result.\n",
      "INFO: Successfully partitioned set #5, elements added to the final result.\n",
      "INFO: Successfully partitioned set #6, elements added to the final result.\n",
      "INFO: Successfully partitioned set #7, elements added to the final result.\n",
      "INFO: Successfully partitioned set #8, elements added to the final result.\n",
      "INFO: Successfully partitioned set #9, elements added to the final result.\n",
      "INFO: Successfully partitioned set #10, elements added to the final result.\n",
      "INFO: Successfully partitioned set #11, elements added to the final result.\n",
      "INFO: Successfully partitioned set #12, elements added to the final result.\n",
      "INFO: Successfully partitioned set #13, elements added to the final result.\n",
      "INFO: Successfully partitioned the document.\n"
     ]
    }
   ],
   "source": [
    "\n",
    "\n",
    "from unstructured_client import UnstructuredClient\n",
    "from unstructured_client.models import operations, shared\n",
    "from unstructured_client.models.errors import SDKError\n",
    "from IPython.display import JSON\n",
    "import json\n",
    "from markdownify import markdownify as md\n",
    "\n",
    "client = UnstructuredClient(\n",
    "    api_key_auth=\"xNQcZcO2UAju3p5Kd9pZjTMnqf9zzr\",\n",
    "    # server_url=DLAI_API_URL,\n",
    ")\n",
    "\n",
    "filename = \"data/Pmg_lds.pdf\"\n",
    "with open(filename, \"rb\") as f:\n",
    "    files=shared.Files(\n",
    "        content=f.read(), \n",
    "        file_name=filename,\n",
    "    )\n",
    "\n",
    "request = shared.PartitionParameters(\n",
    "    files=files,\n",
    "    strategy='hi_res',\n",
    "    pdf_infer_table_structure=True,\n",
    "    languages=[\"eng\"],\n",
    "    chunking_strategy=\"by_title\",\n",
    "    combine_under_n_chars=200,\n",
    "    include_orig_elements=True,\n",
    "    max_characters=500,\n",
    "    multipage_sections=True,\n",
    "    new_after_n_chars=1500,\n",
    "    overlap=50,\n",
    "    overlap_all=False\n",
    "      \n",
    "      \n",
    ")\n",
    "\n",
    "\n",
    "# Partition the PDF file\n",
    "response = client.general.partition(request)\n"
   ]
  },
  {
   "cell_type": "code",
   "execution_count": 51,
   "metadata": {},
   "outputs": [
    {
     "data": {
      "text/plain": [
       "1762"
      ]
     },
     "execution_count": 51,
     "metadata": {},
     "output_type": "execute_result"
    }
   ],
   "source": [
    "len(response.elements)\n",
    "# print(response)\n"
   ]
  },
  {
   "cell_type": "code",
   "execution_count": 42,
   "metadata": {},
   "outputs": [
    {
     "data": {
      "text/plain": [
       "1762"
      ]
     },
     "execution_count": 42,
     "metadata": {},
     "output_type": "execute_result"
    }
   ],
   "source": [
    "len(response.elements)"
   ]
  },
  {
   "cell_type": "code",
   "execution_count": 3,
   "metadata": {},
   "outputs": [
    {
     "ename": "NameError",
     "evalue": "name 'response' is not defined",
     "output_type": "error",
     "traceback": [
      "\u001b[0;31m---------------------------------------------------------------------------\u001b[0m",
      "\u001b[0;31mNameError\u001b[0m                                 Traceback (most recent call last)",
      "Cell \u001b[0;32mIn[3], line 2\u001b[0m\n\u001b[1;32m      1\u001b[0m \u001b[38;5;66;03m# Use IPython display to show the response in JSON format\u001b[39;00m\n\u001b[0;32m----> 2\u001b[0m \u001b[38;5;28mprint\u001b[39m(\u001b[38;5;28mtype\u001b[39m(\u001b[43mresponse\u001b[49m))\n",
      "\u001b[0;31mNameError\u001b[0m: name 'response' is not defined"
     ]
    }
   ],
   "source": [
    "\n",
    "# Use IPython display to show the response in JSON format\n",
    "print(type(response))"
   ]
  },
  {
   "cell_type": "code",
   "execution_count": 2,
   "metadata": {},
   "outputs": [
    {
     "ename": "NameError",
     "evalue": "name 'response' is not defined",
     "output_type": "error",
     "traceback": [
      "\u001b[0;31m---------------------------------------------------------------------------\u001b[0m",
      "\u001b[0;31mNameError\u001b[0m                                 Traceback (most recent call last)",
      "Cell \u001b[0;32mIn[2], line 1\u001b[0m\n\u001b[0;32m----> 1\u001b[0m chunked \u001b[38;5;241m=\u001b[39m \u001b[43mresponse\u001b[49m\u001b[38;5;241m.\u001b[39melements\n\u001b[1;32m      3\u001b[0m \u001b[38;5;66;03m# Save to a JSON file\u001b[39;00m\n\u001b[1;32m      4\u001b[0m \u001b[38;5;66;03m# with open('chunks.json', 'w') as f:\u001b[39;00m\n\u001b[1;32m      5\u001b[0m     \u001b[38;5;66;03m# json.dump(chunked, f)\u001b[39;00m\n",
      "\u001b[0;31mNameError\u001b[0m: name 'response' is not defined"
     ]
    }
   ],
   "source": [
    "chunked = response.elements\n",
    "\n",
    "# Save to a JSON file\n",
    "# with open('chunks.json', 'w') as f:\n",
    "    # json.dump(chunked, f)"
   ]
  },
  {
   "cell_type": "code",
   "execution_count": 1,
   "metadata": {},
   "outputs": [
    {
     "ename": "NameError",
     "evalue": "name 'chunked' is not defined",
     "output_type": "error",
     "traceback": [
      "\u001b[0;31m---------------------------------------------------------------------------\u001b[0m",
      "\u001b[0;31mNameError\u001b[0m                                 Traceback (most recent call last)",
      "Cell \u001b[0;32mIn[1], line 4\u001b[0m\n\u001b[1;32m      1\u001b[0m \u001b[38;5;66;03m# JSON(json.dumps(resp.elements, indent=2))\u001b[39;00m\n\u001b[0;32m----> 4\u001b[0m \u001b[38;5;28mprint\u001b[39m(\u001b[43mchunked\u001b[49m[\u001b[38;5;241m0\u001b[39m])\n",
      "\u001b[0;31mNameError\u001b[0m: name 'chunked' is not defined"
     ]
    }
   ],
   "source": [
    "# JSON(json.dumps(resp.elements, indent=2))\n",
    "\n",
    "    \n",
    "print(chunked[0])\n"
   ]
  },
  {
   "cell_type": "code",
   "execution_count": 56,
   "metadata": {},
   "outputs": [],
   "source": [
    "# # convert dictionary elements to html tags - transform to markdown\n",
    "# # with markdownify\n",
    "\n",
    "# def format_to_html(content):\n",
    "#     if content['type'] == 'Header':\n",
    "#         header = content['text']\n",
    "#         return f\"<h2>{header}</h2>\\n\\n\"\n",
    "    \n",
    "#     elif content['type'] == 'UncategorizedText':\n",
    "#         return f\"<span>{content['text']}</span>\\n\\n\"\n",
    "    \n",
    "#     elif content['type'] == 'PageNumber':\n",
    "#         page_number = content['text']\n",
    "#         return f\"<span>{page_number}</span>\\n\\n\"\n",
    "    \n",
    "#     elif content['type'] == 'ListItem':\n",
    "#         list_items = content['text']\n",
    "#         return f\"<ul><li>{list_items}</li></ul>\\n\\n\"\n",
    "    \n",
    "#     elif content['type'] == 'NarrativeText':\n",
    "#         return f\"<p>{content['text']}</p>\\n\\n\"\n",
    "    \n",
    "#     elif content['type'] == 'Title':\n",
    "#         return f\"<h1>{content['text']}</h1>\\n\\n\"\n",
    "    \n",
    "#     elif content['type'] == 'Table':\n",
    "#         value = content['metadata']\n",
    "#         return f\"{value['text_as_html']}\\n\\n\"\n",
    "    \n",
    "#     elif content['type'] == 'Image':\n",
    "#         alt_text = content['metadata']\n",
    "#         return f\"<img src='#' alt='see page {alt_text['page_number']}' />\\n\\n\"\n",
    "    \n",
    "#     else:\n",
    "#         return \"\"\n",
    "\n",
    "\n",
    "# # function to write to markdown file\n",
    "# def save_to_markdown(text, markdown_file):\n",
    "#     with open(markdown_file, 'w', encoding='utf-8') as f:\n",
    "#         f.writelines(text)\n"
   ]
  },
  {
   "cell_type": "code",
   "execution_count": 57,
   "metadata": {},
   "outputs": [],
   "source": [
    "# # iterate through the response and format\n",
    "# html_tags = \"\"\n",
    "\n",
    "# for element in resp.elements:\n",
    "#     html_tags += format_to_html(element)\n",
    "\n",
    "# #convert to markdown using markdownify\n",
    "# md_content = md(html_tags)\n",
    "\n",
    "# # save to markdown file\n",
    "# save_to_markdown(md_content, 'Pmg_lds.md')\n"
   ]
  }
 ],
 "metadata": {
  "kernelspec": {
   "display_name": ".venv",
   "language": "python",
   "name": "python3"
  },
  "language_info": {
   "codemirror_mode": {
    "name": "ipython",
    "version": 3
   },
   "file_extension": ".py",
   "mimetype": "text/x-python",
   "name": "python",
   "nbconvert_exporter": "python",
   "pygments_lexer": "ipython3",
   "version": "3.11.9"
  }
 },
 "nbformat": 4,
 "nbformat_minor": 2
}
